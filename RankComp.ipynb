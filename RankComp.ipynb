{
 "cells": [
  {
   "cell_type": "code",
   "execution_count": 34,
   "metadata": {},
   "outputs": [],
   "source": [
    "import numpy as np\n",
    "\n",
    "xsL = [(0,1),(0,1)]\n",
    "qs  = (0,1,2)\n",
    "\n",
    "if True:\n",
    "    ys  = ((0,0), (0,1), (1,0), (1,1))\n",
    "\n",
    "    pX0X1 = np.array([[1, 0.1],[0.2,1]]).astype('float')\n",
    "    #pX0X1 = np.eye(2)\n",
    "    pX0X1 /= pX0X1.sum()\n",
    "\n",
    "    pXY = {}\n",
    "    for xix, xs in enumerate(xsL):\n",
    "        pXY[xix] = np.zeros((len(xs),len(ys)))\n",
    "        for xndx, x in enumerate(xs):\n",
    "            for yndx, y in enumerate(ys):\n",
    "                if y[xix] == x:\n",
    "                    pXY[xix][xndx,yndx] = pX0X1[y[0],y[1]]\n",
    "                    #print('h x%d=%d y=%s'%(xix, x, y),  y[0],y[1])\n",
    "        pXY[xix]/=pXY[xix].sum()\n",
    "\n",
    "    pY = pXY[0].sum(axis=0)\n",
    "    # print(pY)\n",
    "    assert(np.allclose(pY, pXY[1].sum(axis=0)))\n",
    "\n",
    "else:\n",
    "    ys  = (0,1)\n",
    "    pYX0X1 = np.random.random((len(ys),len(xsL[0]),len(xsL[1])))\n",
    "    pYX0X1 /= pYX0X1.sum()\n",
    "    \n",
    "    pY = pYX0X1.sum(axis=-1).sum(axis=-1)\n",
    "    pXY= {}\n",
    "    pXY[0] = pYX0X1.sum(axis=-1).T\n",
    "    pXY[1] = pYX0X1.sum(axis=1).T\n",
    "assert(np.allclose(pY, pXY[0].sum(axis=0)))\n",
    "assert(np.allclose(pY, pXY[1].sum(axis=0)))\n"
   ]
  },
  {
   "cell_type": "code",
   "execution_count": 35,
   "metadata": {},
   "outputs": [
    {
     "name": "stdout",
     "output_type": "stream",
     "text": [
      "{('q|y', 0, (0, 0)): 0, ('q|y', 0, (0, 1)): 1, ('q|y', 0, (1, 0)): 2, ('q|y', 0, (1, 1)): 3, ('q|y', 1, (0, 0)): 4, ('q|y', 1, (0, 1)): 5, ('q|y', 1, (1, 0)): 6, ('q|y', 1, (1, 1)): 7, ('q|x0', 0, 0): 8, ('q|x0', 0, 1): 9, ('q|x1', 0, 0): 10, ('q|x1', 0, 1): 11, ('q|x0', 1, 0): 12, ('q|x0', 1, 1): 13, ('q|x1', 1, 0): 14, ('q|x1', 1, 1): 15}\n"
     ]
    }
   ],
   "source": [
    "ixs = {}\n",
    "for q in qs[:-1]:\n",
    "    for y in ys:\n",
    "        ixs[('q|y',q,y)] = len(ixs)\n",
    "for q in qs[:-1]:\n",
    "    for xix, xs in enumerate(xsL):\n",
    "        for x in xs:\n",
    "            ixs[('q|x%d'%xix,q,x)] = len(ixs)\n",
    "N = len(ixs)\n",
    "print(ixs)"
   ]
  },
  {
   "cell_type": "code",
   "execution_count": 36,
   "metadata": {},
   "outputs": [],
   "source": [
    "A = []\n",
    "for q in qs[:-1]:\n",
    "    for xix, xs in enumerate(xsL):\n",
    "        for x in xs:\n",
    "            r = np.zeros(N)\n",
    "            r[ixs[('q|x%d'%xix,q,x)]] = 1\n",
    "            A.append(r)\n",
    "            \n",
    "\n",
    "for xix, xs in enumerate(xsL):\n",
    "    for x in xs:\n",
    "        r = np.zeros(N)\n",
    "        for q in qs[:-1]:\n",
    "            r[ixs[('q|x%d'%xix,q,x)]] = 1\n",
    "        A.append(r)\n",
    "\n",
    "B = []\n",
    "\n",
    "for yndx, y in enumerate(ys):\n",
    "    for q in qs:\n",
    "        for xix, xs in enumerate(xsL):\n",
    "            r = np.zeros(N)\n",
    "            if q == qs[-1]:\n",
    "                for q2 in qs[:-1]:\n",
    "                    r[ixs[('q|y',q2,y)]] = pY[yndx]\n",
    "            else:\n",
    "                r[ixs[('q|y',q,y)]] = -pY[yndx]\n",
    "                \n",
    "            for xndx, x in enumerate(xs):\n",
    "                if q == qs[-1]:\n",
    "                    for q2 in qs[:-1]:\n",
    "                        r[ixs[('q|x%d'%xix,q2,x)]] = -pXY[xix][xndx,yndx]\n",
    "                else:\n",
    "                        r[ixs[('q|x%d'%xix,q,x)]] = -pXY[xix][xndx,yndx]\n",
    "            #print(len(B), ('q|y',q,y), ('q|x%d'%xix,q,x))\n",
    "            B.append(r)\n"
   ]
  },
  {
   "cell_type": "code",
   "execution_count": 37,
   "metadata": {},
   "outputs": [
    {
     "name": "stdout",
     "output_type": "stream",
     "text": [
      "shape(A) = (12, 16), rank(A) = 8\n",
      "shape(B) = (24, 16), rank(B) = 15\n",
      "shape(C) = (36, 16), rank(C) = 16\n"
     ]
    }
   ],
   "source": [
    "Amx = np.array(A)\n",
    "Bmx = np.array(B)\n",
    "Cmx = np.vstack([A,B])\n",
    "print('shape(A) = %s, rank(A) = %d' % (Amx.shape,np.linalg.matrix_rank(Amx)))\n",
    "print('shape(B) = %s, rank(B) = %d' % (Bmx.shape,np.linalg.matrix_rank(Bmx)))\n",
    "print('shape(C) = %s, rank(C) = %d' % (Cmx.shape,np.linalg.matrix_rank(Cmx)))\n",
    "#print(np.linalg.lstsq(Bmx[1:8].T, Bmx[0]))\n",
    "#print(np.linalg.matrix_rank(Amx))\n",
    "#print(np.linalg.matrix_rank(Cmx))\n",
    "\n",
    "\n",
    "#print(Bmx[7])\n",
    "#print(Bmx[4]-Bmx[5] + Bmx[6]-Bmx[7])\n",
    "#print((Bmx[4]-Bmx[5] + Bmx[6]-Bmx[7]).sum())"
   ]
  },
  {
   "cell_type": "code",
   "execution_count": 39,
   "metadata": {
    "scrolled": false
   },
   "outputs": [
    {
     "data": {
      "image/png": "[encoded data removed]",
      "text/plain": [
       "<Figure size 432x288 with 1 Axes>"
      ]
     },
     "metadata": {},
     "output_type": "display_data"
    },
    {
     "name": "stdout",
     "output_type": "stream",
     "text": [
      "[[-0.435  0.     0.     0.     0.     0.     0.     0.    -0.435 -0.     0.     0.     0.     0.     0.     0.   ]\n",
      " [-0.435  0.     0.     0.     0.     0.     0.     0.     0.     0.    -0.435 -0.     0.     0.     0.     0.   ]\n",
      " [ 0.     0.     0.     0.    -0.435  0.     0.     0.     0.     0.     0.     0.    -0.435 -0.     0.     0.   ]\n",
      " [ 0.     0.     0.     0.    -0.435  0.     0.     0.     0.     0.     0.     0.     0.     0.    -0.435 -0.   ]\n",
      " [ 0.435  0.     0.     0.     0.435  0.     0.     0.    -0.435 -0.     0.     0.    -0.435 -0.     0.     0.   ]\n",
      " [ 0.435  0.     0.     0.     0.435  0.     0.     0.     0.     0.    -0.435 -0.     0.     0.    -0.435 -0.   ]\n",
      " [ 0.    -0.043  0.     0.     0.     0.     0.     0.    -0.043 -0.     0.     0.     0.     0.     0.     0.   ]\n",
      " [ 0.    -0.043  0.     0.     0.     0.     0.     0.     0.     0.    -0.    -0.043  0.     0.     0.     0.   ]\n",
      " [ 0.     0.     0.     0.     0.    -0.043  0.     0.     0.     0.     0.     0.    -0.043 -0.     0.     0.   ]\n",
      " [ 0.     0.     0.     0.     0.    -0.043  0.     0.     0.     0.     0.     0.     0.     0.    -0.    -0.043]\n",
      " [ 0.     0.043  0.     0.     0.     0.043  0.     0.    -0.043 -0.     0.     0.    -0.043 -0.     0.     0.   ]\n",
      " [ 0.     0.043  0.     0.     0.     0.043  0.     0.     0.     0.    -0.    -0.043  0.     0.    -0.    -0.043]\n",
      " [ 0.     0.    -0.087  0.     0.     0.     0.     0.    -0.    -0.087  0.     0.     0.     0.     0.     0.   ]\n",
      " [ 0.     0.    -0.087  0.     0.     0.     0.     0.     0.     0.    -0.087 -0.     0.     0.     0.     0.   ]\n",
      " [ 0.     0.     0.     0.     0.     0.    -0.087  0.     0.     0.     0.     0.    -0.    -0.087  0.     0.   ]\n",
      " [ 0.     0.     0.     0.     0.     0.    -0.087  0.     0.     0.     0.     0.     0.     0.    -0.087 -0.   ]\n",
      " [ 0.     0.     0.087  0.     0.     0.     0.087  0.    -0.    -0.087  0.     0.    -0.    -0.087  0.     0.   ]\n",
      " [ 0.     0.     0.087  0.     0.     0.     0.087  0.     0.     0.    -0.087 -0.     0.     0.    -0.087 -0.   ]\n",
      " [ 0.     0.     0.    -0.435  0.     0.     0.     0.    -0.    -0.435  0.     0.     0.     0.     0.     0.   ]\n",
      " [ 0.     0.     0.    -0.435  0.     0.     0.     0.     0.     0.    -0.    -0.435  0.     0.     0.     0.   ]\n",
      " [ 0.     0.     0.     0.     0.     0.     0.    -0.435  0.     0.     0.     0.    -0.    -0.435  0.     0.   ]\n",
      " [ 0.     0.     0.     0.     0.     0.     0.    -0.435  0.     0.     0.     0.     0.     0.    -0.    -0.435]\n",
      " [ 0.     0.     0.     0.435  0.     0.     0.     0.435 -0.    -0.435  0.     0.    -0.    -0.435  0.     0.   ]\n",
      " [ 0.     0.     0.     0.435  0.     0.     0.     0.435  0.     0.    -0.    -0.435  0.     0.    -0.    -0.435]]\n"
     ]
    }
   ],
   "source": [
    "%matplotlib inline\n",
    "import matplotlib.pyplot as plt\n",
    "plt.imshow(Bmx)\n",
    "plt.show()\n",
    "np.set_printoptions(precision=3, linewidth=150)\n",
    "print(Bmx)"
   ]
  },
  {
   "cell_type": "code",
   "execution_count": 33,
   "metadata": {},
   "outputs": [
    {
     "data": {
      "image/png": "[encoded data removed]",
      "text/plain": [
       "<Figure size 432x288 with 1 Axes>"
      ]
     },
     "metadata": {},
     "output_type": "display_data"
    },
    {
     "name": "stdout",
     "output_type": "stream",
     "text": [
      "[[ 0.     0.     0.     0.     0.     0.     0.     0.     0.     0.     0.     0.    -0.455 -0.455  0.     0.     0.455  0.455  0.     0.     0.\n",
      "   0.     0.     0.     0.     0.     0.     0.     0.     0.     0.     0.     0.     0.     0.     0.   ]\n",
      " [ 0.     0.     0.     0.     0.     0.     0.     0.     0.     0.     0.     0.     0.     0.     0.     0.     0.     0.    -0.045 -0.045  0.\n",
      "   0.     0.045  0.045  0.     0.     0.     0.     0.     0.     0.     0.     0.     0.     0.     0.   ]\n",
      " [ 0.     0.     0.     0.     0.     0.     0.     0.     0.     0.     0.     0.     0.     0.     0.     0.     0.     0.     0.     0.     0.\n",
      "   0.     0.     0.    -0.045 -0.045  0.     0.     0.045  0.045  0.     0.     0.     0.     0.     0.   ]\n",
      " [ 0.     0.     0.     0.     0.     0.     0.     0.     0.     0.     0.     0.     0.     0.     0.     0.     0.     0.     0.     0.     0.\n",
      "   0.     0.     0.     0.     0.     0.     0.     0.     0.    -0.455 -0.455  0.     0.     0.455  0.455]\n",
      " [ 0.     0.     0.     0.     0.     0.     0.     0.     0.     0.     0.     0.     0.     0.    -0.455 -0.455  0.455  0.455  0.     0.     0.\n",
      "   0.     0.     0.     0.     0.     0.     0.     0.     0.     0.     0.     0.     0.     0.     0.   ]\n",
      " [ 0.     0.     0.     0.     0.     0.     0.     0.     0.     0.     0.     0.     0.     0.     0.     0.     0.     0.     0.     0.    -0.045\n",
      "  -0.045  0.045  0.045  0.     0.     0.     0.     0.     0.     0.     0.     0.     0.     0.     0.   ]\n",
      " [ 0.     0.     0.     0.     0.     0.     0.     0.     0.     0.     0.     0.     0.     0.     0.     0.     0.     0.     0.     0.     0.\n",
      "   0.     0.     0.     0.     0.    -0.045 -0.045  0.045  0.045  0.     0.     0.     0.     0.     0.   ]\n",
      " [ 0.     0.     0.     0.     0.     0.     0.     0.     0.     0.     0.     0.     0.     0.     0.     0.     0.     0.     0.     0.     0.\n",
      "   0.     0.     0.     0.     0.     0.     0.     0.     0.     0.     0.    -0.455 -0.455  0.455  0.455]\n",
      " [ 1.     0.     0.     0.     0.     0.     0.     0.     1.     0.     0.     0.    -0.455  0.     0.     0.    -0.455  0.    -0.045  0.     0.\n",
      "   0.    -0.045  0.    -0.     0.     0.     0.    -0.     0.    -0.     0.     0.     0.    -0.     0.   ]\n",
      " [ 0.     1.     0.     0.     0.     0.     0.     0.     0.     1.     0.     0.    -0.     0.     0.     0.    -0.     0.    -0.     0.     0.\n",
      "   0.    -0.     0.    -0.045  0.     0.     0.    -0.045  0.    -0.455  0.     0.     0.    -0.455  0.   ]\n",
      " [ 0.     0.     1.     0.     0.     0.     0.     0.     0.     0.     1.     0.     0.    -0.455  0.     0.     0.    -0.455  0.    -0.     0.\n",
      "   0.     0.    -0.     0.    -0.045  0.     0.     0.    -0.045  0.    -0.     0.     0.     0.    -0.   ]\n",
      " [ 0.     0.     0.     1.     0.     0.     0.     0.     0.     0.     0.     1.     0.    -0.     0.     0.     0.    -0.     0.    -0.045  0.\n",
      "   0.     0.    -0.045  0.    -0.     0.     0.     0.    -0.     0.    -0.455  0.     0.     0.    -0.455]\n",
      " [ 0.     0.     0.     0.     1.     0.     0.     0.     1.     0.     0.     0.     0.     0.    -0.455  0.    -0.455  0.     0.     0.    -0.045\n",
      "   0.    -0.045  0.     0.     0.    -0.     0.    -0.     0.     0.     0.    -0.     0.    -0.     0.   ]\n",
      " [ 0.     0.     0.     0.     0.     1.     0.     0.     0.     1.     0.     0.     0.     0.    -0.     0.    -0.     0.     0.     0.    -0.\n",
      "   0.    -0.     0.     0.     0.    -0.045  0.    -0.045  0.     0.     0.    -0.455  0.    -0.455  0.   ]\n",
      " [ 0.     0.     0.     0.     0.     0.     1.     0.     0.     0.     1.     0.     0.     0.     0.    -0.455  0.    -0.455  0.     0.     0.\n",
      "  -0.     0.    -0.     0.     0.     0.    -0.045  0.    -0.045  0.     0.     0.    -0.     0.    -0.   ]\n",
      " [ 0.     0.     0.     0.     0.     0.     0.     1.     0.     0.     0.     1.     0.     0.     0.    -0.     0.    -0.     0.     0.     0.\n",
      "  -0.045  0.    -0.045  0.     0.     0.    -0.     0.    -0.     0.     0.     0.    -0.455  0.    -0.455]]\n"
     ]
    }
   ],
   "source": [
    "%matplotlib inline\n",
    "import matplotlib.pyplot as plt\n",
    "plt.imshow(Cmx.T)\n",
    "plt.show()\n",
    "np.set_printoptions(precision=3, linewidth=150)\n",
    "print(Cmx.T)"
   ]
  },
  {
   "cell_type": "code",
   "execution_count": null,
   "metadata": {},
   "outputs": [],
   "source": []
  }
 ],
 "metadata": {
  "kernelspec": {
   "display_name": "Python 3",
   "language": "python",
   "name": "python3"
  },
  "language_info": {
   "codemirror_mode": {
    "name": "ipython",
    "version": 3
   },
   "file_extension": ".py",
   "mimetype": "text/x-python",
   "name": "python",
   "nbconvert_exporter": "python",
   "pygments_lexer": "ipython3",
   "version": "3.6.5"
  }
 },
 "nbformat": 4,
 "nbformat_minor": 2
}
