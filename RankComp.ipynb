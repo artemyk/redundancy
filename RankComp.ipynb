{
 "cells": [
  {
   "cell_type": "code",
   "execution_count": 7,
   "metadata": {},
   "outputs": [],
   "source": [
    "import numpy as np\n",
    "\n",
    "xsL = [(0,1),(0,1)]\n",
    "qs  = (0,1,2)\n",
    "\n",
    "if False:\n",
    "    ys  = ((0,0), (0,1), (1,0), (1,1))\n",
    "\n",
    "    pX0X1 = np.array([[1, 0.1],[0.2,1]]).astype('float')\n",
    "    #pX0X1 = np.eye(2)\n",
    "    pX0X1 /= pX0X1.sum()\n",
    "\n",
    "    pXY = {}\n",
    "    for xix, xs in enumerate(xsL):\n",
    "        pXY[xix] = np.zeros((len(xs),len(ys)))\n",
    "        for xndx, x in enumerate(xs):\n",
    "            for yndx, y in enumerate(ys):\n",
    "                if y[xix] == x:\n",
    "                    pXY[xix][xndx,yndx] = pX0X1[y[0],y[1]]\n",
    "                    #print('h x%d=%d y=%s'%(xix, x, y),  y[0],y[1])\n",
    "        pXY[xix]/=pXY[xix].sum()\n",
    "\n",
    "    pY = pXY[0].sum(axis=0)\n",
    "    # print(pY)\n",
    "    assert(np.allclose(pY, pXY[1].sum(axis=0)))\n",
    "\n",
    "else:\n",
    "    ys  = (0,1)\n",
    "    pYX0X1 = np.random.random((len(ys),len(xsL[0]),len(xsL[1])))\n",
    "    pYX0X1 /= pYX0X1.sum()\n",
    "    \n",
    "    pY = pYX0X1.sum(axis=-1).sum(axis=-1)\n",
    "    pXY= {}\n",
    "    pXY[0] = pYX0X1.sum(axis=-1).T\n",
    "    pXY[1] = pYX0X1.sum(axis=1).T\n",
    "assert(np.allclose(pY, pXY[0].sum(axis=0)))\n",
    "assert(np.allclose(pY, pXY[1].sum(axis=0)))\n"
   ]
  },
  {
   "cell_type": "code",
   "execution_count": 19,
   "metadata": {},
   "outputs": [
    {
     "name": "stdout",
     "output_type": "stream",
     "text": [
      "{('q|y', 0, 0): 0, ('q|y', 0, 1): 1, ('q|y', 1, 0): 2, ('q|y', 1, 1): 3, ('q|x0', 0, 0): 4, ('q|x0', 1, 0): 5, ('q|x0', 0, 1): 6, ('q|x0', 1, 1): 7, ('q|x1', 0, 0): 8, ('q|x1', 1, 0): 9, ('q|x1', 0, 1): 10, ('q|x1', 1, 1): 11}\n"
     ]
    }
   ],
   "source": [
    "ixs = {}\n",
    "for q in qs[:-1]:\n",
    "    for y in ys:\n",
    "        ixs[('q|y',q,y)] = len(ixs)\n",
    "for xix, xs in enumerate(xsL):\n",
    "    for x in xs:\n",
    "        for q in qs[:-1]:\n",
    "            ixs[('q|x%d'%xix,q,x)] = len(ixs)\n",
    "N = len(ixs)\n",
    "print(ixs)"
   ]
  },
  {
   "cell_type": "code",
   "execution_count": 25,
   "metadata": {},
   "outputs": [],
   "source": [
    "A = []\n",
    "for q in qs[:-1]:\n",
    "    for xix, xs in enumerate(xsL):\n",
    "        for x in xs:\n",
    "            r = np.zeros(N)\n",
    "            r[ixs[('q|x%d'%xix,q,x)]] = 1\n",
    "            A.append(r)\n",
    "            \n",
    "\n",
    "for xix, xs in enumerate(xsL):\n",
    "    for x in xs:\n",
    "        r = np.zeros(N)\n",
    "        for q in qs[:-1]:\n",
    "            r[ixs[('q|x%d'%xix,q,x)]] = 1\n",
    "        A.append(r)\n",
    "\n",
    "B = []\n",
    "\n",
    "for xix, xs in enumerate(xsL):\n",
    "    for q in qs:\n",
    "        for yndx, y in enumerate(ys):\n",
    "            r = np.zeros(N).astype('str')\n",
    "            cval = pY[yndx]\n",
    "            cval = 'pY(%d)'%yndx\n",
    "            if q == qs[-1]:\n",
    "                for q2 in qs[:-1]:\n",
    "                    r[ixs[('q|y',q2,y)]] = \n",
    "            else:\n",
    "                r[ixs[('q|y',q,y)]] = -pY[yndx]\n",
    "                \n",
    "            for xndx, x in enumerate(xs):\n",
    "                cval = -pXY[xix][xndx,yndx]\n",
    "                cval = 'p(X%d=%d,Y=%d)' % (xix,xndx,yndx)\n",
    "                if q == qs[-1]:\n",
    "                    for q2 in qs[:-1]:\n",
    "                        r[ixs[('q|x%d'%xix,q2,x)]] = cval\n",
    "                else:\n",
    "                        r[ixs[('q|x%d'%xix,q,x)]] = cval\n",
    "            #print(len(B), ('q|y',q,y), ('q|x%d'%xix,q,x))\n",
    "            B.append(r)\n"
   ]
  },
  {
   "cell_type": "code",
   "execution_count": 26,
   "metadata": {},
   "outputs": [
    {
     "name": "stdout",
     "output_type": "stream",
     "text": [
      "shape(A) = (12, 12), rank(A) = 8\n"
     ]
    },
    {
     "ename": "TypeError",
     "evalue": "No loop matching the specified signature and casting\nwas found for ufunc svd_n",
     "output_type": "error",
     "traceback": [
      "\u001b[0;31m---------------------------------------------------------------------------\u001b[0m",
      "\u001b[0;31mTypeError\u001b[0m                                 Traceback (most recent call last)",
      "\u001b[0;32m<ipython-input-26-e505145fae42>\u001b[0m in \u001b[0;36m<module>\u001b[0;34m()\u001b[0m\n\u001b[1;32m      3\u001b[0m \u001b[0mCmx\u001b[0m \u001b[0;34m=\u001b[0m \u001b[0mnp\u001b[0m\u001b[0;34m.\u001b[0m\u001b[0mvstack\u001b[0m\u001b[0;34m(\u001b[0m\u001b[0;34m[\u001b[0m\u001b[0mA\u001b[0m\u001b[0;34m,\u001b[0m\u001b[0mB\u001b[0m\u001b[0;34m]\u001b[0m\u001b[0;34m)\u001b[0m\u001b[0;34m\u001b[0m\u001b[0m\n\u001b[1;32m      4\u001b[0m \u001b[0mprint\u001b[0m\u001b[0;34m(\u001b[0m\u001b[0;34m'shape(A) = %s, rank(A) = %d'\u001b[0m \u001b[0;34m%\u001b[0m \u001b[0;34m(\u001b[0m\u001b[0mAmx\u001b[0m\u001b[0;34m.\u001b[0m\u001b[0mshape\u001b[0m\u001b[0;34m,\u001b[0m\u001b[0mnp\u001b[0m\u001b[0;34m.\u001b[0m\u001b[0mlinalg\u001b[0m\u001b[0;34m.\u001b[0m\u001b[0mmatrix_rank\u001b[0m\u001b[0;34m(\u001b[0m\u001b[0mAmx\u001b[0m\u001b[0;34m)\u001b[0m\u001b[0;34m)\u001b[0m\u001b[0;34m)\u001b[0m\u001b[0;34m\u001b[0m\u001b[0m\n\u001b[0;32m----> 5\u001b[0;31m \u001b[0mprint\u001b[0m\u001b[0;34m(\u001b[0m\u001b[0;34m'shape(B) = %s, rank(B) = %d'\u001b[0m \u001b[0;34m%\u001b[0m \u001b[0;34m(\u001b[0m\u001b[0mBmx\u001b[0m\u001b[0;34m.\u001b[0m\u001b[0mshape\u001b[0m\u001b[0;34m,\u001b[0m\u001b[0mnp\u001b[0m\u001b[0;34m.\u001b[0m\u001b[0mlinalg\u001b[0m\u001b[0;34m.\u001b[0m\u001b[0mmatrix_rank\u001b[0m\u001b[0;34m(\u001b[0m\u001b[0mBmx\u001b[0m\u001b[0;34m)\u001b[0m\u001b[0;34m)\u001b[0m\u001b[0;34m)\u001b[0m\u001b[0;34m\u001b[0m\u001b[0m\n\u001b[0m\u001b[1;32m      6\u001b[0m \u001b[0mprint\u001b[0m\u001b[0;34m(\u001b[0m\u001b[0;34m'shape(C) = %s, rank(C) = %d'\u001b[0m \u001b[0;34m%\u001b[0m \u001b[0;34m(\u001b[0m\u001b[0mCmx\u001b[0m\u001b[0;34m.\u001b[0m\u001b[0mshape\u001b[0m\u001b[0;34m,\u001b[0m\u001b[0mnp\u001b[0m\u001b[0;34m.\u001b[0m\u001b[0mlinalg\u001b[0m\u001b[0;34m.\u001b[0m\u001b[0mmatrix_rank\u001b[0m\u001b[0;34m(\u001b[0m\u001b[0mCmx\u001b[0m\u001b[0;34m)\u001b[0m\u001b[0;34m)\u001b[0m\u001b[0;34m)\u001b[0m\u001b[0;34m\u001b[0m\u001b[0m\n\u001b[1;32m      7\u001b[0m \u001b[0;31m#print(np.linalg.lstsq(Bmx[1:8].T, Bmx[0]))\u001b[0m\u001b[0;34m\u001b[0m\u001b[0;34m\u001b[0m\u001b[0m\n",
      "\u001b[0;32m/usr/local/lib/python3.6/site-packages/numpy/linalg/linalg.py\u001b[0m in \u001b[0;36mmatrix_rank\u001b[0;34m(M, tol, hermitian)\u001b[0m\n\u001b[1;32m   1848\u001b[0m         \u001b[0mS\u001b[0m \u001b[0;34m=\u001b[0m \u001b[0mabs\u001b[0m\u001b[0;34m(\u001b[0m\u001b[0meigvalsh\u001b[0m\u001b[0;34m(\u001b[0m\u001b[0mM\u001b[0m\u001b[0;34m)\u001b[0m\u001b[0;34m)\u001b[0m\u001b[0;34m\u001b[0m\u001b[0m\n\u001b[1;32m   1849\u001b[0m     \u001b[0;32melse\u001b[0m\u001b[0;34m:\u001b[0m\u001b[0;34m\u001b[0m\u001b[0m\n\u001b[0;32m-> 1850\u001b[0;31m         \u001b[0mS\u001b[0m \u001b[0;34m=\u001b[0m \u001b[0msvd\u001b[0m\u001b[0;34m(\u001b[0m\u001b[0mM\u001b[0m\u001b[0;34m,\u001b[0m \u001b[0mcompute_uv\u001b[0m\u001b[0;34m=\u001b[0m\u001b[0;32mFalse\u001b[0m\u001b[0;34m)\u001b[0m\u001b[0;34m\u001b[0m\u001b[0m\n\u001b[0m\u001b[1;32m   1851\u001b[0m     \u001b[0;32mif\u001b[0m \u001b[0mtol\u001b[0m \u001b[0;32mis\u001b[0m \u001b[0;32mNone\u001b[0m\u001b[0;34m:\u001b[0m\u001b[0;34m\u001b[0m\u001b[0m\n\u001b[1;32m   1852\u001b[0m         \u001b[0mtol\u001b[0m \u001b[0;34m=\u001b[0m \u001b[0mS\u001b[0m\u001b[0;34m.\u001b[0m\u001b[0mmax\u001b[0m\u001b[0;34m(\u001b[0m\u001b[0maxis\u001b[0m\u001b[0;34m=\u001b[0m\u001b[0;34m-\u001b[0m\u001b[0;36m1\u001b[0m\u001b[0;34m,\u001b[0m \u001b[0mkeepdims\u001b[0m\u001b[0;34m=\u001b[0m\u001b[0;32mTrue\u001b[0m\u001b[0;34m)\u001b[0m \u001b[0;34m*\u001b[0m \u001b[0mmax\u001b[0m\u001b[0;34m(\u001b[0m\u001b[0mM\u001b[0m\u001b[0;34m.\u001b[0m\u001b[0mshape\u001b[0m\u001b[0;34m[\u001b[0m\u001b[0;34m-\u001b[0m\u001b[0;36m2\u001b[0m\u001b[0;34m:\u001b[0m\u001b[0;34m]\u001b[0m\u001b[0;34m)\u001b[0m \u001b[0;34m*\u001b[0m \u001b[0mfinfo\u001b[0m\u001b[0;34m(\u001b[0m\u001b[0mS\u001b[0m\u001b[0;34m.\u001b[0m\u001b[0mdtype\u001b[0m\u001b[0;34m)\u001b[0m\u001b[0;34m.\u001b[0m\u001b[0meps\u001b[0m\u001b[0;34m\u001b[0m\u001b[0m\n",
      "\u001b[0;32m/usr/local/lib/python3.6/site-packages/numpy/linalg/linalg.py\u001b[0m in \u001b[0;36msvd\u001b[0;34m(a, full_matrices, compute_uv)\u001b[0m\n\u001b[1;32m   1622\u001b[0m \u001b[0;34m\u001b[0m\u001b[0m\n\u001b[1;32m   1623\u001b[0m         \u001b[0msignature\u001b[0m \u001b[0;34m=\u001b[0m \u001b[0;34m'D->d'\u001b[0m \u001b[0;32mif\u001b[0m \u001b[0misComplexType\u001b[0m\u001b[0;34m(\u001b[0m\u001b[0mt\u001b[0m\u001b[0;34m)\u001b[0m \u001b[0;32melse\u001b[0m \u001b[0;34m'd->d'\u001b[0m\u001b[0;34m\u001b[0m\u001b[0m\n\u001b[0;32m-> 1624\u001b[0;31m         \u001b[0ms\u001b[0m \u001b[0;34m=\u001b[0m \u001b[0mgufunc\u001b[0m\u001b[0;34m(\u001b[0m\u001b[0ma\u001b[0m\u001b[0;34m,\u001b[0m \u001b[0msignature\u001b[0m\u001b[0;34m=\u001b[0m\u001b[0msignature\u001b[0m\u001b[0;34m,\u001b[0m \u001b[0mextobj\u001b[0m\u001b[0;34m=\u001b[0m\u001b[0mextobj\u001b[0m\u001b[0;34m)\u001b[0m\u001b[0;34m\u001b[0m\u001b[0m\n\u001b[0m\u001b[1;32m   1625\u001b[0m         \u001b[0ms\u001b[0m \u001b[0;34m=\u001b[0m \u001b[0ms\u001b[0m\u001b[0;34m.\u001b[0m\u001b[0mastype\u001b[0m\u001b[0;34m(\u001b[0m\u001b[0m_realType\u001b[0m\u001b[0;34m(\u001b[0m\u001b[0mresult_t\u001b[0m\u001b[0;34m)\u001b[0m\u001b[0;34m,\u001b[0m \u001b[0mcopy\u001b[0m\u001b[0;34m=\u001b[0m\u001b[0;32mFalse\u001b[0m\u001b[0;34m)\u001b[0m\u001b[0;34m\u001b[0m\u001b[0m\n\u001b[1;32m   1626\u001b[0m         \u001b[0;32mreturn\u001b[0m \u001b[0ms\u001b[0m\u001b[0;34m\u001b[0m\u001b[0m\n",
      "\u001b[0;31mTypeError\u001b[0m: No loop matching the specified signature and casting\nwas found for ufunc svd_n"
     ]
    }
   ],
   "source": [
    "Amx = np.array(A)\n",
    "Bmx = np.array(B)\n",
    "Cmx = np.vstack([A,B])\n",
    "print('shape(A) = %s, rank(A) = %d' % (Amx.shape,np.linalg.matrix_rank(Amx)))\n",
    "print('shape(B) = %s, rank(B) = %d' % (Bmx.shape,np.linalg.matrix_rank(Bmx)))\n",
    "print('shape(C) = %s, rank(C) = %d' % (Cmx.shape,np.linalg.matrix_rank(Cmx)))\n",
    "#print(np.linalg.lstsq(Bmx[1:8].T, Bmx[0]))\n",
    "#print(np.linalg.matrix_rank(Amx))\n",
    "#print(np.linalg.matrix_rank(Cmx))\n",
    "\n",
    "\n",
    "#print(Bmx[7])\n",
    "#print(Bmx[4]-Bmx[5] + Bmx[6]-Bmx[7])\n",
    "#print((Bmx[4]-Bmx[5] + Bmx[6]-Bmx[7]).sum())"
   ]
  },
  {
   "cell_type": "code",
   "execution_count": 29,
   "metadata": {
    "scrolled": false
   },
   "outputs": [
    {
     "name": "stdout",
     "output_type": "stream",
     "text": [
      "[['-0.5424937157308785' '0.0' '0.0' '0.0' 'p(X0=0,Y=0)' '0.0' 'p(X0=1,Y=0)' '0.0' '0.0' '0.0' '0.0' '0.0']\n",
      " ['0.0' '-0.45750628426912154' '0.0' '0.0' 'p(X0=0,Y=1)' '0.0' 'p(X0=1,Y=1)' '0.0' '0.0' '0.0' '0.0' '0.0']\n",
      " ['0.0' '0.0' '-0.5424937157308785' '0.0' '0.0' 'p(X0=0,Y=0)' '0.0' 'p(X0=1,Y=0)' '0.0' '0.0' '0.0' '0.0']\n",
      " ['0.0' '0.0' '0.0' '-0.45750628426912154' '0.0' 'p(X0=0,Y=1)' '0.0' 'p(X0=1,Y=1)' '0.0' '0.0' '0.0' '0.0']\n",
      " ['0.5424937157308785' '0.0' '0.5424937157308785' '0.0' 'p(X0=0,Y=0)' 'p(X0=0,Y=0)' 'p(X0=1,Y=0)' 'p(X0=1,Y=0)' '0.0' '0.0' '0.0' '0.0']\n",
      " ['0.0' '0.45750628426912154' '0.0' '0.45750628426912154' 'p(X0=0,Y=1)' 'p(X0=0,Y=1)' 'p(X0=1,Y=1)' 'p(X0=1,Y=1)' '0.0' '0.0' '0.0' '0.0']\n",
      " ['-0.5424937157308785' '0.0' '0.0' '0.0' '0.0' '0.0' '0.0' '0.0' 'p(X1=0,Y=0)' '0.0' 'p(X1=1,Y=0)' '0.0']\n",
      " ['0.0' '-0.45750628426912154' '0.0' '0.0' '0.0' '0.0' '0.0' '0.0' 'p(X1=0,Y=1)' '0.0' 'p(X1=1,Y=1)' '0.0']\n",
      " ['0.0' '0.0' '-0.5424937157308785' '0.0' '0.0' '0.0' '0.0' '0.0' '0.0' 'p(X1=0,Y=0)' '0.0' 'p(X1=1,Y=0)']\n",
      " ['0.0' '0.0' '0.0' '-0.45750628426912154' '0.0' '0.0' '0.0' '0.0' '0.0' 'p(X1=0,Y=1)' '0.0' 'p(X1=1,Y=1)']\n",
      " ['0.5424937157308785' '0.0' '0.5424937157308785' '0.0' '0.0' '0.0' '0.0' '0.0' 'p(X1=0,Y=0)' 'p(X1=0,Y=0)' 'p(X1=1,Y=0)' 'p(X1=1,Y=0)']\n",
      " ['0.0' '0.45750628426912154' '0.0' '0.45750628426912154' '0.0' '0.0' '0.0' '0.0' 'p(X1=0,Y=1)' 'p(X1=0,Y=1)' 'p(X1=1,Y=1)' 'p(X1=1,Y=1)']]\n",
      "{('q|y', 0, 0): 0, ('q|y', 0, 1): 1, ('q|y', 1, 0): 2, ('q|y', 1, 1): 3, ('q|x0', 0, 0): 4, ('q|x0', 1, 0): 5, ('q|x0', 0, 1): 6, ('q|x0', 1, 1): 7, ('q|x1', 0, 0): 8, ('q|x1', 1, 0): 9, ('q|x1', 0, 1): 10, ('q|x1', 1, 1): 11}\n"
     ]
    },
    {
     "ename": "TypeError",
     "evalue": "Image data cannot be converted to float",
     "output_type": "error",
     "traceback": [
      "\u001b[0;31m---------------------------------------------------------------------------\u001b[0m",
      "\u001b[0;31mTypeError\u001b[0m                                 Traceback (most recent call last)",
      "\u001b[0;32m<ipython-input-29-c3e29bef1678>\u001b[0m in \u001b[0;36m<module>\u001b[0;34m()\u001b[0m\n\u001b[1;32m      5\u001b[0m \u001b[0mget_ipython\u001b[0m\u001b[0;34m(\u001b[0m\u001b[0;34m)\u001b[0m\u001b[0;34m.\u001b[0m\u001b[0mrun_line_magic\u001b[0m\u001b[0;34m(\u001b[0m\u001b[0;34m'matplotlib'\u001b[0m\u001b[0;34m,\u001b[0m \u001b[0;34m'inline'\u001b[0m\u001b[0;34m)\u001b[0m\u001b[0;34m\u001b[0m\u001b[0m\n\u001b[1;32m      6\u001b[0m \u001b[0;32mimport\u001b[0m \u001b[0mmatplotlib\u001b[0m\u001b[0;34m.\u001b[0m\u001b[0mpyplot\u001b[0m \u001b[0;32mas\u001b[0m \u001b[0mplt\u001b[0m\u001b[0;34m\u001b[0m\u001b[0m\n\u001b[0;32m----> 7\u001b[0;31m \u001b[0mplt\u001b[0m\u001b[0;34m.\u001b[0m\u001b[0mimshow\u001b[0m\u001b[0;34m(\u001b[0m\u001b[0mBmx\u001b[0m\u001b[0;34m)\u001b[0m\u001b[0;34m\u001b[0m\u001b[0m\n\u001b[0m\u001b[1;32m      8\u001b[0m \u001b[0mplt\u001b[0m\u001b[0;34m.\u001b[0m\u001b[0mshow\u001b[0m\u001b[0;34m(\u001b[0m\u001b[0;34m)\u001b[0m\u001b[0;34m\u001b[0m\u001b[0m\n",
      "\u001b[0;32m/usr/local/lib/python3.6/site-packages/matplotlib/pyplot.py\u001b[0m in \u001b[0;36mimshow\u001b[0;34m(X, cmap, norm, aspect, interpolation, alpha, vmin, vmax, origin, extent, shape, filternorm, filterrad, imlim, resample, url, data, **kwargs)\u001b[0m\n\u001b[1;32m   2699\u001b[0m         \u001b[0mfilternorm\u001b[0m\u001b[0;34m=\u001b[0m\u001b[0mfilternorm\u001b[0m\u001b[0;34m,\u001b[0m \u001b[0mfilterrad\u001b[0m\u001b[0;34m=\u001b[0m\u001b[0mfilterrad\u001b[0m\u001b[0;34m,\u001b[0m \u001b[0mimlim\u001b[0m\u001b[0;34m=\u001b[0m\u001b[0mimlim\u001b[0m\u001b[0;34m,\u001b[0m\u001b[0;34m\u001b[0m\u001b[0m\n\u001b[1;32m   2700\u001b[0m         resample=resample, url=url, **({\"data\": data} if data is not\n\u001b[0;32m-> 2701\u001b[0;31m         None else {}), **kwargs)\n\u001b[0m\u001b[1;32m   2702\u001b[0m     \u001b[0msci\u001b[0m\u001b[0;34m(\u001b[0m\u001b[0m__ret\u001b[0m\u001b[0;34m)\u001b[0m\u001b[0;34m\u001b[0m\u001b[0m\n\u001b[1;32m   2703\u001b[0m     \u001b[0;32mreturn\u001b[0m \u001b[0m__ret\u001b[0m\u001b[0;34m\u001b[0m\u001b[0m\n",
      "\u001b[0;32m/usr/local/lib/python3.6/site-packages/matplotlib/__init__.py\u001b[0m in \u001b[0;36minner\u001b[0;34m(ax, data, *args, **kwargs)\u001b[0m\n\u001b[1;32m   1808\u001b[0m                         \u001b[0;34m\"the Matplotlib list!)\"\u001b[0m \u001b[0;34m%\u001b[0m \u001b[0;34m(\u001b[0m\u001b[0mlabel_namer\u001b[0m\u001b[0;34m,\u001b[0m \u001b[0mfunc\u001b[0m\u001b[0;34m.\u001b[0m\u001b[0m__name__\u001b[0m\u001b[0;34m)\u001b[0m\u001b[0;34m,\u001b[0m\u001b[0;34m\u001b[0m\u001b[0m\n\u001b[1;32m   1809\u001b[0m                         RuntimeWarning, stacklevel=2)\n\u001b[0;32m-> 1810\u001b[0;31m             \u001b[0;32mreturn\u001b[0m \u001b[0mfunc\u001b[0m\u001b[0;34m(\u001b[0m\u001b[0max\u001b[0m\u001b[0;34m,\u001b[0m \u001b[0;34m*\u001b[0m\u001b[0margs\u001b[0m\u001b[0;34m,\u001b[0m \u001b[0;34m**\u001b[0m\u001b[0mkwargs\u001b[0m\u001b[0;34m)\u001b[0m\u001b[0;34m\u001b[0m\u001b[0m\n\u001b[0m\u001b[1;32m   1811\u001b[0m \u001b[0;34m\u001b[0m\u001b[0m\n\u001b[1;32m   1812\u001b[0m         inner.__doc__ = _add_data_doc(inner.__doc__,\n",
      "\u001b[0;32m/usr/local/lib/python3.6/site-packages/matplotlib/axes/_axes.py\u001b[0m in \u001b[0;36mimshow\u001b[0;34m(self, X, cmap, norm, aspect, interpolation, alpha, vmin, vmax, origin, extent, shape, filternorm, filterrad, imlim, resample, url, **kwargs)\u001b[0m\n\u001b[1;32m   5492\u001b[0m                               resample=resample, **kwargs)\n\u001b[1;32m   5493\u001b[0m \u001b[0;34m\u001b[0m\u001b[0m\n\u001b[0;32m-> 5494\u001b[0;31m         \u001b[0mim\u001b[0m\u001b[0;34m.\u001b[0m\u001b[0mset_data\u001b[0m\u001b[0;34m(\u001b[0m\u001b[0mX\u001b[0m\u001b[0;34m)\u001b[0m\u001b[0;34m\u001b[0m\u001b[0m\n\u001b[0m\u001b[1;32m   5495\u001b[0m         \u001b[0mim\u001b[0m\u001b[0;34m.\u001b[0m\u001b[0mset_alpha\u001b[0m\u001b[0;34m(\u001b[0m\u001b[0malpha\u001b[0m\u001b[0;34m)\u001b[0m\u001b[0;34m\u001b[0m\u001b[0m\n\u001b[1;32m   5496\u001b[0m         \u001b[0;32mif\u001b[0m \u001b[0mim\u001b[0m\u001b[0;34m.\u001b[0m\u001b[0mget_clip_path\u001b[0m\u001b[0;34m(\u001b[0m\u001b[0;34m)\u001b[0m \u001b[0;32mis\u001b[0m \u001b[0;32mNone\u001b[0m\u001b[0;34m:\u001b[0m\u001b[0;34m\u001b[0m\u001b[0m\n",
      "\u001b[0;32m/usr/local/lib/python3.6/site-packages/matplotlib/image.py\u001b[0m in \u001b[0;36mset_data\u001b[0;34m(self, A)\u001b[0m\n\u001b[1;32m    640\u001b[0m         if (self._A.dtype != np.uint8 and\n\u001b[1;32m    641\u001b[0m                 not np.can_cast(self._A.dtype, float, \"same_kind\")):\n\u001b[0;32m--> 642\u001b[0;31m             \u001b[0;32mraise\u001b[0m \u001b[0mTypeError\u001b[0m\u001b[0;34m(\u001b[0m\u001b[0;34m\"Image data cannot be converted to float\"\u001b[0m\u001b[0;34m)\u001b[0m\u001b[0;34m\u001b[0m\u001b[0m\n\u001b[0m\u001b[1;32m    643\u001b[0m \u001b[0;34m\u001b[0m\u001b[0m\n\u001b[1;32m    644\u001b[0m         if not (self._A.ndim == 2\n",
      "\u001b[0;31mTypeError\u001b[0m: Image data cannot be converted to float"
     ]
    },
    {
     "data": {
      "image/png": "[encoded data removed]",
      "text/plain": [
       "<Figure size 432x288 with 1 Axes>"
      ]
     },
     "metadata": {},
     "output_type": "display_data"
    }
   ],
   "source": [
    "np.set_printoptions(precision=3, linewidth=150)\n",
    "print(Bmx)\n",
    "print(ixs)\n",
    "\n",
    "%matplotlib inline\n",
    "import matplotlib.pyplot as plt\n",
    "plt.imshow(Bmx)\n",
    "plt.show()\n"
   ]
  },
  {
   "cell_type": "code",
   "execution_count": 12,
   "metadata": {},
   "outputs": [
    {
     "data": {
      "image/png": "[encoded data removed]",
      "text/plain": [
       "<Figure size 432x288 with 1 Axes>"
      ]
     },
     "metadata": {},
     "output_type": "display_data"
    },
    {
     "name": "stdout",
     "output_type": "stream",
     "text": [
      "[[ 0.     0.     0.     0.     0.     0.     0.     0.     0.     0.     0.     0.    -0.542 -0.542  0.     0.     0.542  0.542  0.     0.     0.\n",
      "   0.     0.     0.   ]\n",
      " [ 0.     0.     0.     0.     0.     0.     0.     0.     0.     0.     0.     0.     0.     0.     0.     0.     0.     0.    -0.458 -0.458  0.\n",
      "   0.     0.458  0.458]\n",
      " [ 0.     0.     0.     0.     0.     0.     0.     0.     0.     0.     0.     0.     0.     0.    -0.542 -0.542  0.542  0.542  0.     0.     0.\n",
      "   0.     0.     0.   ]\n",
      " [ 0.     0.     0.     0.     0.     0.     0.     0.     0.     0.     0.     0.     0.     0.     0.     0.     0.     0.     0.     0.    -0.458\n",
      "  -0.458  0.458  0.458]\n",
      " [ 1.     0.     0.     0.     0.     0.     0.     0.     1.     0.     0.     0.    -0.376  0.     0.     0.    -0.376  0.    -0.185  0.     0.\n",
      "   0.    -0.185  0.   ]\n",
      " [ 0.     1.     0.     0.     0.     0.     0.     0.     0.     1.     0.     0.    -0.167  0.     0.     0.    -0.167  0.    -0.273  0.     0.\n",
      "   0.    -0.273  0.   ]\n",
      " [ 0.     0.     1.     0.     0.     0.     0.     0.     0.     0.     1.     0.     0.    -0.252  0.     0.     0.    -0.252  0.    -0.257  0.\n",
      "   0.     0.    -0.257]\n",
      " [ 0.     0.     0.     1.     0.     0.     0.     0.     0.     0.     0.     1.     0.    -0.29   0.     0.     0.    -0.29   0.    -0.2    0.\n",
      "   0.     0.    -0.2  ]\n",
      " [ 0.     0.     0.     0.     1.     0.     0.     0.     1.     0.     0.     0.     0.     0.    -0.376  0.    -0.376  0.     0.     0.    -0.185\n",
      "   0.    -0.185  0.   ]\n",
      " [ 0.     0.     0.     0.     0.     1.     0.     0.     0.     1.     0.     0.     0.     0.    -0.167  0.    -0.167  0.     0.     0.    -0.273\n",
      "   0.    -0.273  0.   ]\n",
      " [ 0.     0.     0.     0.     0.     0.     1.     0.     0.     0.     1.     0.     0.     0.     0.    -0.252  0.    -0.252  0.     0.     0.\n",
      "  -0.257  0.    -0.257]\n",
      " [ 0.     0.     0.     0.     0.     0.     0.     1.     0.     0.     0.     1.     0.     0.     0.    -0.29   0.    -0.29   0.     0.     0.\n",
      "  -0.2    0.    -0.2  ]]\n"
     ]
    }
   ],
   "source": [
    "%matplotlib inline\n",
    "import matplotlib.pyplot as plt\n",
    "plt.imshow(Cmx.T)\n",
    "plt.show()\n",
    "np.set_printoptions(precision=3, linewidth=150)\n",
    "print(Cmx.T)"
   ]
  },
  {
   "cell_type": "code",
   "execution_count": null,
   "metadata": {},
   "outputs": [],
   "source": []
  }
 ],
 "metadata": {
  "kernelspec": {
   "display_name": "Python 3",
   "language": "python",
   "name": "python3"
  },
  "language_info": {
   "codemirror_mode": {
    "name": "ipython",
    "version": 3
   },
   "file_extension": ".py",
   "mimetype": "text/x-python",
   "name": "python",
   "nbconvert_exporter": "python",
   "pygments_lexer": "ipython3",
   "version": "3.6.5"
  }
 },
 "nbformat": 4,
 "nbformat_minor": 2
}
