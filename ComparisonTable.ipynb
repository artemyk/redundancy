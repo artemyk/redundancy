{
 "cells": [
  {
   "cell_type": "markdown",
   "metadata": {
    "execution": {
     "iopub.execute_input": "2022-01-04T01:07:57.690Z",
     "iopub.status.busy": "2022-01-04T01:07:57.685Z",
     "iopub.status.idle": "2022-01-04T01:07:59.226Z",
     "shell.execute_reply": "2022-01-04T01:07:59.257Z"
    }
   },
   "source": [
    "# Comparison of Blackwell redundancy $I_\\cap^\\prec$ to other measures\n",
    "\n",
    "This notebook recreates comparison tables (Table 2 and Table 3) from \n",
    "\n",
    "* A Kolchinsky, A Novel Approach to the Partial Information Decomposition, *Entropy*, 2022.\n",
    "\n"
   ]
  },
  {
   "cell_type": "code",
   "execution_count": null,
   "metadata": {
    "execution": {
     "iopub.execute_input": "2022-01-04T01:07:57.690Z",
     "iopub.status.busy": "2022-01-04T01:07:57.685Z",
     "iopub.status.idle": "2022-01-04T01:07:59.226Z",
     "shell.execute_reply": "2022-01-04T01:07:59.257Z"
    }
   },
   "outputs": [],
   "source": [
    "from __future__ import print_function\n",
    "from collections import OrderedDict\n",
    "import numpy as np\n",
    "import warnings\n",
    "warnings.filterwarnings(\"ignore\")\n",
    "import dit\n",
    "\n",
    "from blackwell_redundancy import get_Iprec\n",
    "from i_GH                 import get_I_GH\n",
    "\n",
    "def wrap(f): # useful function to return redundancy value from PID computed by dit\n",
    "    def cf(pjoint):\n",
    "        d = f(pjoint.copy())\n",
    "        red_node = tuple([(i,) for i in range(len(pjoint.rvs)-1)])\n",
    "        red = d[red_node]\n",
    "        return red\n",
    "    return cf\n",
    "\n",
    "def calculate_GH(pjoint):\n",
    "    # Calculate redundancy measure proposed by Griffith and Ho 2015\n",
    "    # This measure can be very slow to calculate. We use the following trick:\n",
    "    # We know that I_wedge <= I^\\wedge <= I^\\prec. So we calculate I^\\wedge and I^\\prec,\n",
    "    # and if they give approximately the same value we return that for I_GH\n",
    "    lb = wrap(dit.pid.PID_GK)(pjoint)\n",
    "    up = get_Iprec(pjoint)[0]\n",
    "    if np.abs(up-lb) < 1e-4:\n",
    "        return up\n",
    "    else:\n",
    "        return get_I_GH(pjoint, n_q=3)[0]\n",
    "\n",
    "# Set of different redundancy measures to compute\n",
    "methods = OrderedDict()\n",
    "methods['≺']      = lambda pjoint: get_Iprec(pjoint)[0]  # Our measure of blackwell redundancy\n",
    "methods['WB']     = wrap(dit.pid.PID_WB)    # Williams and Beer, 2010\n",
    "methods['MMI']    = wrap(dit.pid.PID_MMI)   # (Minimum Mutual Information) Barrett, 2015\n",
    "methods['∧']      = wrap(dit.pid.PID_GK)    # Griffith et al, 2014\n",
    "methods['GH']     = calculate_GH            # Griffith and Ho, 2015\n",
    "methods['Ince']   = wrap(dit.pid.PID_CCS)   # Ince, 2017\n",
    "methods['FL']     = wrap(dit.pid.PID_PM)    # Finn and Lizier, 2018\n",
    "methods['BROJA']  = wrap(dit.pid.PID_BROJA) # Bertschinger et al., 2014\n",
    "methods['Harder'] = wrap(dit.pid.PID_Proj)  # Harder et al. 2013\n",
    "methods['dep']    = wrap(dit.pid.PID_dep)   # James et al, 2018\n",
    "\n"
   ]
  },
  {
   "cell_type": "code",
   "execution_count": null,
   "metadata": {
    "execution": {
     "iopub.execute_input": "2022-01-03T23:03:33.806Z",
     "iopub.status.busy": "2022-01-03T23:03:33.801Z",
     "iopub.status.idle": "2022-01-03T23:03:49.627Z",
     "shell.execute_reply": "2022-01-03T23:03:49.635Z"
    }
   },
   "outputs": [],
   "source": [
    "# Construct a set of different bivariate distributions. \n",
    "# This recreates Table 2 from the paper\n",
    "\n",
    "bivariate_dists = OrderedDict()\n",
    "bivariate_dists['Y=X1 AND X2'] = dit.pid.distributions.bivariates['and']\n",
    "bivariate_dists['Y=X1 + X2']   = dit.Distribution(['000', '011', '101', '112'], [0.25,0.25,0.25,0.25])\n",
    "bivariate_dists['Y=X1']        = dit.pid.distributions.bivariates['unique 1']\n",
    "bivariate_dists['Y=(X1,X2)']   = dit.pid.distributions.bivariates['cat']\n",
    "\n",
    "# Can also introduce some correlations (c) between sources into the Y=X1 and COPY gates\n",
    "alpha = 0.7\n",
    "p     = np.array([alpha, 1-alpha, 1-alpha, alpha])\n",
    "p    /= p.sum()\n",
    "bivariate_dists['Y=X1/c'] = dit.Distribution(['000', '011', '100', '111'], p)\n",
    "bivariate_dists['Y=(X1,X2)/c'] = dit.Distribution(['000', '011', '102', '113'], p)\n",
    "\n",
    "print('%12s'%'',end=' ')\n",
    "for m in methods.keys():\n",
    "    print('%7s'%m, end=' ')\n",
    "print()\n",
    "\n",
    "for k, pjoint in bivariate_dists.items():\n",
    "    print('%12s'%k, end=' ')\n",
    "    for m, method in methods.items():\n",
    "        if k in ['COPY','COPYalpha'] and m in ('Idep',): # too slow\n",
    "            v = ' -----'\n",
    "        else:\n",
    "            v = '% .3f'%method(pjoint)\n",
    "        print(' ' + v, end=' ')\n",
    "    print()\n",
    "    \n",
    "    "
   ]
  },
  {
   "cell_type": "code",
   "execution_count": null,
   "metadata": {
    "execution": {
     "iopub.execute_input": "2022-01-03T23:03:49.817Z",
     "iopub.status.busy": "2022-01-03T23:03:49.814Z",
     "iopub.status.idle": "2022-01-03T23:02:05.753Z",
     "shell.execute_reply": "2022-01-03T23:02:05.758Z"
    }
   },
   "outputs": [],
   "source": [
    "# Trivariate distributions\n",
    "# This recreates Table 3 from our paper\n",
    "trivariate_methods = ['≺', 'WB', 'MMI', '∧', 'Ince','FL']\n",
    "\n",
    "# 3-way AND\n",
    "trivariate_dists = OrderedDict()\n",
    "states = []\n",
    "for i in range(2**3):\n",
    "    s = format(i, '03b')\n",
    "    states.append(s + ('0' if s!='111' else '1'))\n",
    "trivariate_dists['Y=X1 AND X2 AND X3'] = dit.Distribution(states, np.ones(len(states))/len(states))\n",
    "trivariate_dists['Y=X1 + X2 + X3'] = dit.pid.distributions.trivariates['sum']\n",
    "\n",
    "# Creates the overlap gate\n",
    "# X1=(A,B), X2=(A,C), X3=(A,D) (one variable in common)\n",
    "# Y=(X1,X2,X3)\n",
    "states = []\n",
    "ndx = 0\n",
    "statenames='0123456789ABCDEFGHIJKLMNOPQRSTUVWXYZabcdefghijklmnopqrstuvwxyz!@'\n",
    "for x1 in range(4):\n",
    "    for x2 in range(4):\n",
    "        for x3 in range(4):\n",
    "            x1a = int(x1<2)\n",
    "            x2a = int(x2<2)\n",
    "            x3a = int(x3<2)\n",
    "            if x1a != x2a or x1a != x3a:\n",
    "                continue\n",
    "            sname = str(x1)+str(x2)+str(x3)+statenames[ndx]\n",
    "            states.append(sname)\n",
    "            ndx+=1 \n",
    "    \n",
    "trivariate_dists['Y=((A,B),(A,C),(A,D))'] = dit.Distribution(states, np.ones(len(states))/len(states))\n",
    "\n",
    "print('%22s'%'',end=' ')\n",
    "for m in trivariate_methods:\n",
    "    print('%7s'%m, end=' ')\n",
    "print()\n",
    "\n",
    "for k, pjoint in trivariate_dists.items():\n",
    "    print('%22s'%k, end=' ')\n",
    "    for m in trivariate_methods:\n",
    "        v = methods[m](pjoint)\n",
    "        print(' % .3f'%v, end=' ')\n",
    "    print()\n"
   ]
  },
  {
   "cell_type": "code",
   "execution_count": null,
   "metadata": {},
   "outputs": [],
   "source": []
  }
 ],
 "metadata": {
  "kernel_info": {
   "name": "python3"
  },
  "kernelspec": {
   "display_name": "Python 3 (ipykernel)",
   "language": "python",
   "name": "python3"
  },
  "language_info": {
   "codemirror_mode": {
    "name": "ipython",
    "version": 3
   },
   "file_extension": ".py",
   "mimetype": "text/x-python",
   "name": "python",
   "nbconvert_exporter": "python",
   "pygments_lexer": "ipython3",
   "version": "3.9.13"
  },
  "nteract": {
   "version": "0.28.0"
  }
 },
 "nbformat": 4,
 "nbformat_minor": 2
}
