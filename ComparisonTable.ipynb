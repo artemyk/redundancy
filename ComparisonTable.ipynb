{
 "cells": [
  {
   "cell_type": "code",
   "execution_count": 1,
   "metadata": {
    "execution": {
     "iopub.execute_input": "2022-01-04T01:07:57.690Z",
     "iopub.status.busy": "2022-01-04T01:07:57.685Z",
     "iopub.status.idle": "2022-01-04T01:07:59.226Z",
     "shell.execute_reply": "2022-01-04T01:07:59.257Z"
    }
   },
   "outputs": [],
   "source": [
    "from __future__ import print_function\n",
    "from collections import OrderedDict\n",
    "import numpy as np\n",
    "import warnings\n",
    "warnings.filterwarnings(\"ignore\")\n",
    "import dit\n",
    "import istar\n",
    "import i_GH\n",
    "\n",
    "\n",
    "def wrap2(f): # return 2-way redundancy\n",
    "    def cf(pjoint):\n",
    "        d = f(pjoint.copy())\n",
    "        red = d[((0,),(1,))]\n",
    "        return red\n",
    "    return cf\n",
    "\n",
    "def wrap3(f): # return 3-way redundancy\n",
    "    def cf(pjoint):\n",
    "        d = f(pjoint.copy())\n",
    "        red = d[((0,),(1,),(2,))]\n",
    "        return red\n",
    "    return cf\n"
   ]
  },
  {
   "cell_type": "code",
   "execution_count": 2,
   "metadata": {
    "execution": {
     "iopub.execute_input": "2022-01-04T01:07:59.241Z",
     "iopub.status.busy": "2022-01-04T01:07:59.235Z",
     "iopub.status.idle": "2022-01-04T01:07:59.249Z",
     "shell.execute_reply": "2022-01-04T01:07:59.259Z"
    }
   },
   "outputs": [],
   "source": [
    "# Construct a set of different bivariate distributions\n",
    "\n",
    "bivariate_dists = OrderedDict()\n",
    "bivariate_dists['sum']  = dit.Distribution(['000', '011', '101', '112'], [0.25,0.25,0.25,0.25])\n",
    "bivariate_dists['Unq1'] = dit.pid.distributions.bivariates['unique 1']\n",
    "\n",
    "alpha = 0.7\n",
    "p     = np.array([alpha, 1-alpha, 1-alpha, alpha])\n",
    "p    /= p.sum()\n",
    "\n",
    "bivariate_dists['AND']       = dit.pid.distributions.bivariates['and']\n",
    "bivariate_dists['Unq1alpha'] = dit.Distribution(['000', '011', '100', '111'], p)\n",
    "bivariate_dists['COPY']      = dit.pid.distributions.bivariates['cat']\n",
    "bivariate_dists['COPYalpha'] = dit.Distribution(['000', '011', '102', '113'], p)\n",
    "\n",
    "# Set of different redundancy measures to compute\n",
    "bivariate_methods = OrderedDict()\n",
    "bivariate_methods['Istar']  = lambda pjoint: istar.get_Istar(pjoint)[0]\n",
    "bivariate_methods['WB']     = wrap2(dit.pid.PID_WB)    # Williams and Beer 2010\n",
    "bivariate_methods['MMI']    = wrap2(dit.pid.PID_MMI)   # Minimum Mutual Information, Barrett 2015\n",
    "bivariate_methods['BROJA']  = wrap2(dit.pid.PID_BROJA) # Bertschinger et al. 2014\n",
    "bivariate_methods['Proj']   = wrap2(dit.pid.PID_Proj)  # Harder et al. 2013\n",
    "bivariate_methods['Iwedge'] = wrap2(dit.pid.PID_GK)    # Griffith et al. 2014\n",
    "bivariate_methods['CCS']    = wrap2(dit.pid.PID_CCS)   # Ince 2017\n",
    "bivariate_methods['Ipm']    = wrap2(dit.pid.PID_PM)    # Finn and Lizier\n",
    "bivariate_methods['Idep']   = wrap2(dit.pid.PID_dep)   # James \n",
    "\n",
    "# The following can be very slow\n",
    "bivariate_methods['GH']     = lambda pjoint: i_GH.get_I_GH(pjoint, n_q=4)[0]  # Griffith and Ho 2015\n"
   ]
  },
  {
   "cell_type": "code",
   "execution_count": 3,
   "metadata": {
    "execution": {
     "iopub.execute_input": "2022-01-03T23:03:33.806Z",
     "iopub.status.busy": "2022-01-03T23:03:33.801Z",
     "iopub.status.idle": "2022-01-03T23:03:49.627Z",
     "shell.execute_reply": "2022-01-03T23:03:49.635Z"
    }
   },
   "outputs": [
    {
     "name": "stdout",
     "output_type": "stream",
     "text": [
      "             Istar      WB     MMI   BROJA    Proj  Iwedge     CCS     Ipm    Idep      GH \n",
      "       sum   0.500   0.500   0.500   0.500   0.500   0.000   0.000   0.500   0.189   0.000 \n",
      "      Unq1   0.000   0.000   0.000   0.000   0.000   0.000   0.000   1.000   0.000   0.000 \n",
      "       AND   0.311   0.311   0.311   0.311   0.311   0.000   0.104   0.561   0.082   0.123 \n",
      " Unq1alpha   0.119   0.119   0.119   0.119   0.119   0.000   0.340   1.000   0.119   0.119 \n",
      "      COPY   0.000   1.000   1.000   0.000  -0.000   0.000   0.000   1.000   -----   ----- \n",
      " COPYalpha   0.000   1.000   1.000   0.119   0.119   0.000   0.340   1.000   -----   ----- \n"
     ]
    }
   ],
   "source": [
    "print('%10s'%'',end=' ')\n",
    "for m in bivariate_methods.keys():\n",
    "    print('%7s'%m, end=' ')\n",
    "print()\n",
    "\n",
    "for k, pjoint in bivariate_dists.items():\n",
    "    print('%10s'%k, end=' ')\n",
    "    for m, method in bivariate_methods.items():\n",
    "        if k in ['COPY','COPYalpha'] and m in ('Idep','GH'): # too slow\n",
    "            v = ' -----'\n",
    "        else:\n",
    "            v = '% .3f'%method(pjoint)\n",
    "        print(' ' + v, end=' ')\n",
    "    print()"
   ]
  },
  {
   "cell_type": "code",
   "execution_count": 4,
   "metadata": {
    "execution": {
     "iopub.execute_input": "2022-01-03T23:03:49.817Z",
     "iopub.status.busy": "2022-01-03T23:03:49.814Z",
     "iopub.status.idle": "2022-01-03T23:02:05.753Z",
     "shell.execute_reply": "2022-01-03T23:02:05.758Z"
    }
   },
   "outputs": [
    {
     "name": "stdout",
     "output_type": "stream",
     "text": [
      "             Istar      WB     MMI  Iwedge     Ipm     CCS \n",
      "      AND3   0.138   0.138   0.138   0.000   0.294   0.024 \n",
      "      SUM3   0.311   0.311   0.311   0.000   0.561   0.000 \n",
      "   Overlap   1.000   2.000   2.000   1.000   2.000   1.000 \n"
     ]
    }
   ],
   "source": [
    "# Trivariate distributions\n",
    "\n",
    "# 3-way AND\n",
    "trivariate_dists = OrderedDict()\n",
    "states = []\n",
    "for i in range(2**3):\n",
    "    s = format(i, '03b')\n",
    "    states.append(s + ('0' if s!='111' else '1'))\n",
    "trivariate_dists['AND3'] = dit.Distribution(states, np.ones(len(states))/len(states))\n",
    "\n",
    "trivariate_dists['SUM3'] = dit.pid.distributions.trivariates['sum']\n",
    "\n",
    "# X1 = (A,B), X2 = (A,C), X3 = (A,D) (one variable in common)\n",
    "# Y=(X1,X2,X3)\n",
    "states = []\n",
    "ndx = 0\n",
    "statenames='0123456789ABCDEFGHIJKLMNOPQRSTUVWXYZabcdefghijklmnopqrstuvwxyz!@'\n",
    "for x1 in range(4):\n",
    "    for x2 in range(4):\n",
    "        for x3 in range(4):\n",
    "            x1a = int(x1<2)\n",
    "            x2a = int(x2<2)\n",
    "            x3a = int(x3<2)\n",
    "            if x1a != x2a or x1a != x3a:\n",
    "                continue\n",
    "            sname = str(x1)+str(x2)+str(x3)+statenames[ndx]\n",
    "            states.append(sname)\n",
    "            ndx+=1 \n",
    "    \n",
    "trivariate_dists['Overlap'] = dit.Distribution(states, np.ones(len(states))/len(states))\n",
    "\n",
    "\n",
    "# Trivariate methods\n",
    "trivariate_methods = OrderedDict()\n",
    "trivariate_methods['Istar']  = lambda pjoint: istar.get_Istar(pjoint)[0]\n",
    "trivariate_methods['WB']     = wrap3(dit.pid.PID_WB)    # Williams and Beer 2010\n",
    "trivariate_methods['MMI']    = wrap3(dit.pid.PID_MMI)   # Minimum Mutual Information, Barrett 2015\n",
    "trivariate_methods['Iwedge'] = wrap3(dit.pid.PID_GK)    # Griffith et al. 2014\n",
    "trivariate_methods['Ipm']    = wrap3(dit.pid.PID_PM)    # Finn and Lizier\n",
    "trivariate_methods['CCS']    = wrap3(dit.pid.PID_CCS)   # Ince 2017\n",
    "\n",
    "\n",
    "print('%10s'%'',end=' ')\n",
    "for m in trivariate_methods.keys():\n",
    "    print('%7s'%m, end=' ')\n",
    "print()\n",
    "\n",
    "for k, pjoint in trivariate_dists.items(): # trivariate distributions from dit\n",
    "    print('%10s'%k, end=' ')\n",
    "    for m, method in trivariate_methods.items():\n",
    "        v = method(pjoint)\n",
    "        print(' % .3f'%v, end=' ')\n",
    "    print()\n"
   ]
  },
  {
   "cell_type": "code",
   "execution_count": null,
   "metadata": {
    "jupyter": {
     "outputs_hidden": false,
     "source_hidden": false
    },
    "nteract": {
     "transient": {
      "deleting": false
     }
    }
   },
   "outputs": [],
   "source": []
  }
 ],
 "metadata": {
  "kernel_info": {
   "name": "python3"
  },
  "kernelspec": {
   "display_name": "Python 3",
   "language": "python",
   "name": "python3"
  },
  "language_info": {
   "codemirror_mode": {
    "name": "ipython",
    "version": 3
   },
   "file_extension": ".py",
   "mimetype": "text/x-python",
   "name": "python",
   "nbconvert_exporter": "python",
   "pygments_lexer": "ipython3",
   "version": "3.9.7"
  },
  "nteract": {
   "version": "0.28.0"
  }
 },
 "nbformat": 4,
 "nbformat_minor": 2
}
